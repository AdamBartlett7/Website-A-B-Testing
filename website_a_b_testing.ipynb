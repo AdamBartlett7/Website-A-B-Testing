{
 "cells": [
  {
   "cell_type": "code",
   "execution_count": 1,
   "id": "7f9912b1",
   "metadata": {},
   "outputs": [],
   "source": [
    "# Importing necessary libraries\n",
    "import pandas as pd\n",
    "import numpy as np\n",
    "from scipy.stats import chi2_contingency\n",
    "from scipy.stats import ttest_ind\n",
    "import statsmodels.api as sm\n",
    "import matplotlib.pyplot as plt\n",
    "import scipy.stats as stats\n",
    "from statsmodels.stats.power import NormalIndPower\n",
    "from statsmodels.stats.proportion import proportion_effectsize\n",
    "from statsmodels.stats.power import TTestIndPower\n",
    "# dataset source - https://www.kaggle.com/datasets/adarsh0806/ab-testing-practice"
   ]
  },
  {
   "cell_type": "code",
   "execution_count": 2,
   "id": "2e23b2c0",
   "metadata": {},
   "outputs": [
    {
     "data": {
      "text/html": [
       "<div>\n",
       "<style scoped>\n",
       "    .dataframe tbody tr th:only-of-type {\n",
       "        vertical-align: middle;\n",
       "    }\n",
       "\n",
       "    .dataframe tbody tr th {\n",
       "        vertical-align: top;\n",
       "    }\n",
       "\n",
       "    .dataframe thead th {\n",
       "        text-align: right;\n",
       "    }\n",
       "</style>\n",
       "<table border=\"1\" class=\"dataframe\">\n",
       "  <thead>\n",
       "    <tr style=\"text-align: right;\">\n",
       "      <th></th>\n",
       "      <th>User ID</th>\n",
       "      <th>Group</th>\n",
       "      <th>Page Views</th>\n",
       "      <th>Time Spent</th>\n",
       "      <th>Conversion</th>\n",
       "      <th>Device</th>\n",
       "      <th>Location</th>\n",
       "    </tr>\n",
       "  </thead>\n",
       "  <tbody>\n",
       "    <tr>\n",
       "      <th>0</th>\n",
       "      <td>14292</td>\n",
       "      <td>B</td>\n",
       "      <td>3</td>\n",
       "      <td>424</td>\n",
       "      <td>No</td>\n",
       "      <td>Mobile</td>\n",
       "      <td>Northern Ireland</td>\n",
       "    </tr>\n",
       "    <tr>\n",
       "      <th>1</th>\n",
       "      <td>11682</td>\n",
       "      <td>A</td>\n",
       "      <td>9</td>\n",
       "      <td>342</td>\n",
       "      <td>No</td>\n",
       "      <td>Mobile</td>\n",
       "      <td>Scotland</td>\n",
       "    </tr>\n",
       "    <tr>\n",
       "      <th>2</th>\n",
       "      <td>19825</td>\n",
       "      <td>A</td>\n",
       "      <td>2</td>\n",
       "      <td>396</td>\n",
       "      <td>No</td>\n",
       "      <td>Desktop</td>\n",
       "      <td>Northern Ireland</td>\n",
       "    </tr>\n",
       "    <tr>\n",
       "      <th>3</th>\n",
       "      <td>16080</td>\n",
       "      <td>B</td>\n",
       "      <td>4</td>\n",
       "      <td>318</td>\n",
       "      <td>No</td>\n",
       "      <td>Desktop</td>\n",
       "      <td>Wales</td>\n",
       "    </tr>\n",
       "    <tr>\n",
       "      <th>4</th>\n",
       "      <td>18851</td>\n",
       "      <td>A</td>\n",
       "      <td>1</td>\n",
       "      <td>338</td>\n",
       "      <td>Yes</td>\n",
       "      <td>Desktop</td>\n",
       "      <td>Scotland</td>\n",
       "    </tr>\n",
       "  </tbody>\n",
       "</table>\n",
       "</div>"
      ],
      "text/plain": [
       "   User ID Group  Page Views  Time Spent Conversion   Device          Location\n",
       "0    14292     B           3         424         No   Mobile  Northern Ireland\n",
       "1    11682     A           9         342         No   Mobile          Scotland\n",
       "2    19825     A           2         396         No  Desktop  Northern Ireland\n",
       "3    16080     B           4         318         No  Desktop             Wales\n",
       "4    18851     A           1         338        Yes  Desktop          Scotland"
      ]
     },
     "execution_count": 2,
     "metadata": {},
     "output_type": "execute_result"
    }
   ],
   "source": [
    "# loading in the dataset and viewing the first few rows\n",
    "df = pd.read_csv('ab_testing.csv')\n",
    "df.head()"
   ]
  },
  {
   "cell_type": "markdown",
   "id": "bac76af8",
   "metadata": {},
   "source": [
    "- Group A is the control group who used the orignal website version.\n",
    "- Group B is the treatment group who used the new version of the website."
   ]
  },
  {
   "cell_type": "markdown",
   "id": "23f0fd5e",
   "metadata": {},
   "source": [
    "# EDA"
   ]
  },
  {
   "cell_type": "code",
   "execution_count": 3,
   "id": "b0427e25",
   "metadata": {},
   "outputs": [
    {
     "data": {
      "text/plain": [
       "0"
      ]
     },
     "execution_count": 3,
     "metadata": {},
     "output_type": "execute_result"
    }
   ],
   "source": [
    "# checking for any duplicate rows\n",
    "df.duplicated().sum()"
   ]
  },
  {
   "cell_type": "code",
   "execution_count": 4,
   "id": "831a7ec3",
   "metadata": {},
   "outputs": [
    {
     "name": "stdout",
     "output_type": "stream",
     "text": [
      "<class 'pandas.core.frame.DataFrame'>\n",
      "RangeIndex: 5000 entries, 0 to 4999\n",
      "Data columns (total 7 columns):\n",
      " #   Column      Non-Null Count  Dtype \n",
      "---  ------      --------------  ----- \n",
      " 0   User ID     5000 non-null   int64 \n",
      " 1   Group       5000 non-null   object\n",
      " 2   Page Views  5000 non-null   int64 \n",
      " 3   Time Spent  5000 non-null   int64 \n",
      " 4   Conversion  5000 non-null   object\n",
      " 5   Device      5000 non-null   object\n",
      " 6   Location    5000 non-null   object\n",
      "dtypes: int64(3), object(4)\n",
      "memory usage: 273.6+ KB\n"
     ]
    }
   ],
   "source": [
    "# Checking df info\n",
    "df.info()"
   ]
  },
  {
   "cell_type": "markdown",
   "id": "de0c0a2e",
   "metadata": {},
   "source": [
    "# Group "
   ]
  },
  {
   "cell_type": "code",
   "execution_count": 5,
   "id": "8af01874",
   "metadata": {},
   "outputs": [
    {
     "data": {
      "text/plain": [
       "Group\n",
       "A    2519\n",
       "B    2481\n",
       "Name: count, dtype: int64"
      ]
     },
     "execution_count": 5,
     "metadata": {},
     "output_type": "execute_result"
    }
   ],
   "source": [
    "# Checking the number of people for each group\n",
    "df.Group.value_counts()"
   ]
  },
  {
   "cell_type": "markdown",
   "id": "6b89f6d4",
   "metadata": {},
   "source": [
    "# Page Views"
   ]
  },
  {
   "cell_type": "code",
   "execution_count": 6,
   "id": "4a27449b",
   "metadata": {},
   "outputs": [
    {
     "data": {
      "text/plain": [
       "count    5000.000000\n",
       "mean        7.537600\n",
       "std         4.022465\n",
       "min         1.000000\n",
       "25%         4.000000\n",
       "50%         8.000000\n",
       "75%        11.000000\n",
       "max        14.000000\n",
       "Name: Page Views, dtype: float64"
      ]
     },
     "execution_count": 6,
     "metadata": {},
     "output_type": "execute_result"
    }
   ],
   "source": [
    "# Checking the spread of page views\n",
    "df['Page Views'].describe()"
   ]
  },
  {
   "cell_type": "markdown",
   "id": "3092fff4",
   "metadata": {},
   "source": [
    "# Time Spent"
   ]
  },
  {
   "cell_type": "code",
   "execution_count": 7,
   "id": "5bbd5248",
   "metadata": {},
   "outputs": [
    {
     "data": {
      "text/plain": [
       "count    5000.000000\n",
       "mean      242.512600\n",
       "std       118.254153\n",
       "min        40.000000\n",
       "25%       137.000000\n",
       "50%       243.000000\n",
       "75%       346.000000\n",
       "max       449.000000\n",
       "Name: Time Spent, dtype: float64"
      ]
     },
     "execution_count": 7,
     "metadata": {},
     "output_type": "execute_result"
    }
   ],
   "source": [
    "# Checking the spread of time spent\n",
    "df['Time Spent'].describe()"
   ]
  },
  {
   "cell_type": "markdown",
   "id": "61035660",
   "metadata": {},
   "source": [
    "# Conversion"
   ]
  },
  {
   "cell_type": "code",
   "execution_count": 8,
   "id": "6c3a33c0",
   "metadata": {},
   "outputs": [
    {
     "data": {
      "text/plain": [
       "Conversion\n",
       "No     4515\n",
       "Yes     485\n",
       "Name: count, dtype: int64"
      ]
     },
     "execution_count": 8,
     "metadata": {},
     "output_type": "execute_result"
    }
   ],
   "source": [
    "# Checking the number of people who were and were not converted\n",
    "df.Conversion.value_counts()"
   ]
  },
  {
   "cell_type": "code",
   "execution_count": 9,
   "id": "1950046d",
   "metadata": {},
   "outputs": [],
   "source": [
    "# Changing the values to be numeric values instead of categorical\n",
    "df.Conversion = df.Conversion.map({'Yes':1, 'No':0})"
   ]
  },
  {
   "cell_type": "markdown",
   "id": "c3626f2e",
   "metadata": {},
   "source": [
    "# Device"
   ]
  },
  {
   "cell_type": "code",
   "execution_count": 10,
   "id": "c9512326",
   "metadata": {},
   "outputs": [
    {
     "data": {
      "text/plain": [
       "Device\n",
       "Desktop    2538\n",
       "Mobile     2462\n",
       "Name: count, dtype: int64"
      ]
     },
     "execution_count": 10,
     "metadata": {},
     "output_type": "execute_result"
    }
   ],
   "source": [
    "# Checking the number of people who used different devices\n",
    "df.Device.value_counts()"
   ]
  },
  {
   "cell_type": "markdown",
   "id": "9775c6eb",
   "metadata": {},
   "source": [
    "# Location"
   ]
  },
  {
   "cell_type": "code",
   "execution_count": 11,
   "id": "67b7a7c0",
   "metadata": {},
   "outputs": [
    {
     "data": {
      "text/plain": [
       "Location\n",
       "Scotland            1281\n",
       "England             1246\n",
       "Northern Ireland    1242\n",
       "Wales               1231\n",
       "Name: count, dtype: int64"
      ]
     },
     "execution_count": 11,
     "metadata": {},
     "output_type": "execute_result"
    }
   ],
   "source": [
    "# Checking the number of people from different locations\n",
    "df.Location.value_counts()"
   ]
  },
  {
   "cell_type": "markdown",
   "id": "d69ee8f7",
   "metadata": {},
   "source": [
    "# A&B Testing"
   ]
  },
  {
   "cell_type": "markdown",
   "id": "163185b4",
   "metadata": {},
   "source": [
    "# Sample Size - Proportions - Chi-Squared & Z-Test"
   ]
  },
  {
   "cell_type": "code",
   "execution_count": 12,
   "id": "831cb3e3",
   "metadata": {},
   "outputs": [],
   "source": [
    "# Define parameters\n",
    "alpha = 0.05  # Significance level (5%)\n",
    "power = 0.9   # Desired power (90%)\n",
    "effect_size = proportion_effectsize(df[df['Group']=='A']['Conversion'].mean(),\n",
    "                                   df[df['Group']=='B']['Conversion'].mean())  # Compute Cohen’s h"
   ]
  },
  {
   "cell_type": "code",
   "execution_count": 13,
   "id": "dd7a78eb",
   "metadata": {},
   "outputs": [
    {
     "name": "stdout",
     "output_type": "stream",
     "text": [
      "Required sample size per group: 234\n"
     ]
    }
   ],
   "source": [
    "# Calculate required sample size per group\n",
    "analysis = NormalIndPower()\n",
    "sample_size_proportions = analysis.solve_power(effect_size, power=power, alpha=alpha, ratio=1, alternative='two-sided')\n",
    "\n",
    "print(f\"Required sample size per group: {int(np.ceil(sample_size_proportions))}\")"
   ]
  },
  {
   "cell_type": "markdown",
   "id": "a70b1269",
   "metadata": {},
   "source": [
    "- From the power analysis a size of 234 people for each group is required to detect the given effect size. As both group have more than enough samples, the results from the chi-squared and z-test of proportions will be reliable."
   ]
  },
  {
   "cell_type": "markdown",
   "id": "7431efa0",
   "metadata": {},
   "source": [
    "# Chi-Squared"
   ]
  },
  {
   "cell_type": "markdown",
   "id": "802a7984",
   "metadata": {},
   "source": [
    "# Chi-Squared Test Assumptions"
   ]
  },
  {
   "cell_type": "markdown",
   "id": "53bc6206",
   "metadata": {},
   "source": [
    "- 1.The observations should be independently randomly sampled from the population.\n",
    "- 2.The categories of both variables must be mutually exclusive.\n",
    "- 3.All samples should be from distinct users."
   ]
  },
  {
   "cell_type": "markdown",
   "id": "0f5deed0",
   "metadata": {},
   "source": [
    "# Chi-Squared Test - Conversion Rates Test"
   ]
  },
  {
   "cell_type": "markdown",
   "id": "c3794b0a",
   "metadata": {},
   "source": [
    "- Null Hypothesis: There is no association between the group (A or B) and conversion (Yes or No). In other words, the             conversion rate is the same for both groups. \n",
    "- Alternative Hypothesis: There is an association between the group and conversion. That is, conversion rates differ between Group A and Group B.\n",
    "- Significance threshold of 0.05"
   ]
  },
  {
   "cell_type": "markdown",
   "id": "834a3d15",
   "metadata": {},
   "source": [
    "# Checking Chi-Squared Test Assumptions"
   ]
  },
  {
   "cell_type": "markdown",
   "id": "4e35d7e8",
   "metadata": {},
   "source": [
    "- 1.The dataset is created from random synthetic samples. Therefore each person is independent and has no influence on another      persons decision to convert or not.\n",
    "- 2.The categories of both variables are mutually exclusive. Each person is only part of one group and only has one value in the conversion column. (yes or no)\n",
    "- 3.Each sample in the test has their own unique user id. After checking for any duplicates none were found, meaning all rows are distinct."
   ]
  },
  {
   "cell_type": "markdown",
   "id": "c5717f54",
   "metadata": {},
   "source": [
    "# Implementing Chi-Squared Test - Conversion Rates"
   ]
  },
  {
   "cell_type": "code",
   "execution_count": 14,
   "id": "0d1362f7",
   "metadata": {},
   "outputs": [
    {
     "data": {
      "text/plain": [
       "Group\n",
       "A    0.053990\n",
       "B    0.140669\n",
       "Name: Conversion, dtype: float64"
      ]
     },
     "execution_count": 14,
     "metadata": {},
     "output_type": "execute_result"
    }
   ],
   "source": [
    "# Getting the conversion rates for both groups\n",
    "conversion_rates = df.groupby('Group')['Conversion'].mean()\n",
    "conversion_rates"
   ]
  },
  {
   "cell_type": "code",
   "execution_count": 15,
   "id": "47c40a59",
   "metadata": {},
   "outputs": [
    {
     "data": {
      "text/html": [
       "<div>\n",
       "<style scoped>\n",
       "    .dataframe tbody tr th:only-of-type {\n",
       "        vertical-align: middle;\n",
       "    }\n",
       "\n",
       "    .dataframe tbody tr th {\n",
       "        vertical-align: top;\n",
       "    }\n",
       "\n",
       "    .dataframe thead th {\n",
       "        text-align: right;\n",
       "    }\n",
       "</style>\n",
       "<table border=\"1\" class=\"dataframe\">\n",
       "  <thead>\n",
       "    <tr style=\"text-align: right;\">\n",
       "      <th>Conversion</th>\n",
       "      <th>0</th>\n",
       "      <th>1</th>\n",
       "    </tr>\n",
       "    <tr>\n",
       "      <th>Group</th>\n",
       "      <th></th>\n",
       "      <th></th>\n",
       "    </tr>\n",
       "  </thead>\n",
       "  <tbody>\n",
       "    <tr>\n",
       "      <th>A</th>\n",
       "      <td>2383</td>\n",
       "      <td>136</td>\n",
       "    </tr>\n",
       "    <tr>\n",
       "      <th>B</th>\n",
       "      <td>2132</td>\n",
       "      <td>349</td>\n",
       "    </tr>\n",
       "  </tbody>\n",
       "</table>\n",
       "</div>"
      ],
      "text/plain": [
       "Conversion     0    1\n",
       "Group                \n",
       "A           2383  136\n",
       "B           2132  349"
      ]
     },
     "execution_count": 15,
     "metadata": {},
     "output_type": "execute_result"
    }
   ],
   "source": [
    "# Creating a crosstab table of the group and conversion columns\n",
    "table = pd.crosstab(df.Group, df.Conversion)\n",
    "table"
   ]
  },
  {
   "cell_type": "code",
   "execution_count": 16,
   "id": "13038b44",
   "metadata": {},
   "outputs": [
    {
     "name": "stdout",
     "output_type": "stream",
     "text": [
      "106.22812337440538\n",
      "6.571736018334222e-25\n",
      "Statistically significant difference in conversion rates between groups.\n"
     ]
    }
   ],
   "source": [
    "# Running a chi squared test \n",
    "chi2, pval, dof, expected = chi2_contingency(table)\n",
    "print(chi2)\n",
    "print(pval)\n",
    "\n",
    "if pval < 0.05:\n",
    "    print(\"Statistically significant difference in conversion rates between groups.\")\n",
    "else:\n",
    "    print(\"No statistically significant difference in conversion rates.\")"
   ]
  },
  {
   "cell_type": "markdown",
   "id": "537e419b",
   "metadata": {},
   "source": [
    "# Z-Test Of Proportions"
   ]
  },
  {
   "cell_type": "markdown",
   "id": "f62a43b8",
   "metadata": {},
   "source": [
    "# Z-Test Of Proportions Assumptions"
   ]
  },
  {
   "cell_type": "markdown",
   "id": "0b763065",
   "metadata": {},
   "source": [
    "- 1.Independent observations.\n",
    "- 2.Random assignment of groups.\n",
    "- 3.Large enough sample size.\n",
    "- 4.Stationarity."
   ]
  },
  {
   "cell_type": "markdown",
   "id": "eca16672",
   "metadata": {},
   "source": [
    "# Z-Test Of Proportion - Conversion Rates"
   ]
  },
  {
   "cell_type": "markdown",
   "id": "59a5ef41",
   "metadata": {},
   "source": [
    "- Null Hypothesis: There is no association between the group (A or B) and conversion (Yes or No). In other words, the conversion rate is the same for both groups.\n",
    "- Alternative Hypothesis: There is an association between the group and conversion. That is, conversion rates differ between Group A and Group B.\n",
    "- Significance threshold of 0.05"
   ]
  },
  {
   "cell_type": "markdown",
   "id": "ea8968fe",
   "metadata": {},
   "source": [
    "# Checking Z-Test Of Proportions Assumptions"
   ]
  },
  {
   "cell_type": "markdown",
   "id": "5f030183",
   "metadata": {},
   "source": [
    "- 1.The dataset is created from random synthetic samples. Therefore each person is independent and has no influence on another persons decision to convert or not.\n",
    "- 2.Again the dataset is created from random synthetic samples so therefore random assignment. Also groups are balanced with 2519 in group A and 2481 in group B. Also groups are evenly split in device and location aswell.\n",
    "- 3.As Z-test relies on a normal distribution approximation of the binomial distribution the rule of thumb is each group has at least 5 success and 5 failures which the dataset has.\n",
    "- 4.Data was synthetically created so data is over a stable period of time and consistent. No outlier period like black friday sale on the website."
   ]
  },
  {
   "cell_type": "markdown",
   "id": "4fd96c86",
   "metadata": {},
   "source": [
    "# Implementing Z-Test Of Proportions"
   ]
  },
  {
   "cell_type": "code",
   "execution_count": 17,
   "id": "4dfc989b",
   "metadata": {},
   "outputs": [],
   "source": [
    "# Isolating the conversion column for group a & b\n",
    "group_a_conv_col = df[df['Group']=='A']['Conversion']\n",
    "group_b_conv_col = df[df['Group']=='B']['Conversion']"
   ]
  },
  {
   "cell_type": "code",
   "execution_count": 18,
   "id": "64fac47d",
   "metadata": {},
   "outputs": [],
   "source": [
    "# Calculating the conversion rate for both groups\n",
    "group_a_conv_rate = group_a_conv_col.mean()\n",
    "group_b_conv_rate = group_b_conv_col.mean()"
   ]
  },
  {
   "cell_type": "code",
   "execution_count": 19,
   "id": "3fb53946",
   "metadata": {},
   "outputs": [],
   "source": [
    "# Getting the total number of people in each group\n",
    "samples_A = len(group_a_conv_col)\n",
    "samples_B = len(group_b_conv_col)"
   ]
  },
  {
   "cell_type": "code",
   "execution_count": 20,
   "id": "bbc314d3",
   "metadata": {},
   "outputs": [],
   "source": [
    "# Getting the number of conversions for each group\n",
    "conversions_A = group_a_conv_col.sum()\n",
    "conversions_B = group_b_conv_col.sum()"
   ]
  },
  {
   "cell_type": "code",
   "execution_count": 21,
   "id": "e3338f86",
   "metadata": {},
   "outputs": [],
   "source": [
    "# Computing the standard error\n",
    "pooled_conv = (conversions_A + conversions_B) / (samples_A + samples_B)\n",
    "\n",
    "standard_error = np.sqrt(pooled_conv * (1 - pooled_conv) * (1/samples_A + 1/samples_B))"
   ]
  },
  {
   "cell_type": "code",
   "execution_count": 22,
   "id": "55a34dba",
   "metadata": {},
   "outputs": [
    {
     "name": "stdout",
     "output_type": "stream",
     "text": [
      "Z-score: -10.354488520266216\n",
      "P-value: 1.190023050071594e-24\n",
      "Statistically significant difference in conversion rates between groups.\n"
     ]
    }
   ],
   "source": [
    "# Implementing Z-Test\n",
    "z_score = (group_a_conv_rate - group_b_conv_rate) / standard_error\n",
    "\n",
    "p_value = sm.stats.proportions_ztest([conversions_B, conversions_A], [samples_B, samples_B], alternative='larger')[1]\n",
    "print(f\"Z-score: {z_score}\")\n",
    "print(f\"P-value: {p_value}\")\n",
    "\n",
    "if p_value < 0.05:\n",
    "    print(\"Statistically significant difference in conversion rates between groups.\")\n",
    "else:\n",
    "    print(\"No statistically significant difference in conversion rates.\")"
   ]
  },
  {
   "cell_type": "markdown",
   "id": "c17d2e2b",
   "metadata": {},
   "source": [
    "# Chi-Squared & Z-Test Of Proportions - Effect Size "
   ]
  },
  {
   "cell_type": "code",
   "execution_count": 23,
   "id": "23854b2d",
   "metadata": {},
   "outputs": [],
   "source": [
    "# Creating a function to calculate the effect size between the two groups of proportions\n",
    "def cohen_h(p1, p2):\n",
    "    return 2 * (np.arcsin(np.sqrt(p1)) - np.arcsin(np.sqrt(p2)))"
   ]
  },
  {
   "cell_type": "code",
   "execution_count": 24,
   "id": "1ec54c03",
   "metadata": {},
   "outputs": [
    {
     "name": "stdout",
     "output_type": "stream",
     "text": [
      "Cohen's h: 0.2999\n"
     ]
    }
   ],
   "source": [
    "# Using the conversion rates of both groups in the function\n",
    "effect_size_conv = abs(cohen_h(group_a_conv_rate, group_b_conv_rate))\n",
    "print(f\"Cohen's h: {effect_size_conv:.4f}\")"
   ]
  },
  {
   "cell_type": "markdown",
   "id": "b339b0fe",
   "metadata": {},
   "source": [
    "- A cohen's h of 0.2999 is in between the small and medium effect size groups. So even though the I have gotten statistically significant results from my tests, it may not have any meaningful impact for the business if they change to website B. To be more confident in the A&B tests the effect size would preferably be above 0.5."
   ]
  },
  {
   "cell_type": "markdown",
   "id": "5bc21bdb",
   "metadata": {},
   "source": [
    "# Chi-Squared & Z-Test Of Proportions - Actual Power"
   ]
  },
  {
   "cell_type": "code",
   "execution_count": 25,
   "id": "8e187b08",
   "metadata": {},
   "outputs": [
    {
     "name": "stdout",
     "output_type": "stream",
     "text": [
      "Actual power of the test: 1.0000\n"
     ]
    }
   ],
   "source": [
    "# Computing the actual power with group a sample size\n",
    "actual_power_z_test = analysis.power(effect_size_conv, nobs1=samples_A, alpha=0.05, ratio=samples_B/samples_A)\n",
    "print(f\"Actual power of the test: {actual_power_z_test:.4f}\")"
   ]
  },
  {
   "cell_type": "markdown",
   "id": "4edc39d2",
   "metadata": {},
   "source": [
    "- Due to having much more data than the required the sample size suggested the power of the test is perfect."
   ]
  },
  {
   "cell_type": "markdown",
   "id": "e42de560",
   "metadata": {},
   "source": [
    "# Bayesian A&B Testing"
   ]
  },
  {
   "cell_type": "markdown",
   "id": "d4bb4012",
   "metadata": {},
   "source": [
    "# Bayesian A&B Test Assumptions"
   ]
  },
  {
   "cell_type": "markdown",
   "id": "3360d82e",
   "metadata": {},
   "source": [
    "- 1. Independent Observations\n",
    "- 2. Random assignment of groups\n",
    "- 3. Correct prior selection\n",
    "- 4. Sufficient sample size\n",
    "- 5. Stationarity\n",
    "- 6. Appropriate likelihood model"
   ]
  },
  {
   "cell_type": "markdown",
   "id": "e1bb2806",
   "metadata": {},
   "source": [
    "# Checking Bayesian A&B Test Assumptions"
   ]
  },
  {
   "cell_type": "markdown",
   "id": "613e84bf",
   "metadata": {},
   "source": [
    "- 1. The dataset is created from random synthetic samples. Therefore each person is independent and has no influence on another persons decision to convert or not.\n",
    "- 2. Again the dataset is created from random synthetic samples so therefore random assignment. Also groups are balanced with 2519 in group A and 2481 in group B.\n",
    "- 3. Due to not having any initial assumption on baseline conversion I chose a uninformative prior of Beta(1,1), to avoid biasing any results.\n",
    "- 4. From bayesian power analysis below we can see that a minimum of 700 people are required for each group to pass the threshold of 95% that group B is better than group A.\n",
    "- 5. Data was synthetically created so data is over a stable period of time and consistent. No outlier period like black friday sale on the website.\n",
    "- 6. As the outcome variable conversion is binary I will use the Beta-Binomial Model."
   ]
  },
  {
   "cell_type": "code",
   "execution_count": 26,
   "id": "3842b240",
   "metadata": {},
   "outputs": [
    {
     "name": "stdout",
     "output_type": "stream",
     "text": [
      "Sufficient sample size found: 600 per group\n"
     ]
    },
    {
     "data": {
      "image/png": "[encoded data removed]",
      "text/plain": [
       "<Figure size 640x480 with 1 Axes>"
      ]
     },
     "metadata": {},
     "output_type": "display_data"
    }
   ],
   "source": [
    "# Assumption 4 - Checking for sufficient sample size\n",
    "# Function to simulate Bayesian power analysis\n",
    "def bayesian_power_analysis(p_A=0.05, uplift=0.03, confidence_threshold=0.95, max_sample_size=5000, step=50, num_simulations=1000):\n",
    "    \n",
    "    # Expected conversion rate for Group B\n",
    "    p_B = p_A + uplift \n",
    "    # Getting the jumps in sample sizes to check\n",
    "    sample_sizes = np.arange(step, max_sample_size + step, step)\n",
    "    probabilities = []\n",
    "\n",
    "    for N in sample_sizes:\n",
    "        successes_A = np.random.binomial(N, p_A, num_simulations)\n",
    "        successes_B = np.random.binomial(N, p_B, num_simulations)\n",
    "\n",
    "        # Posterior distribution (Beta priors with weak prior belief)\n",
    "        posterior_A = np.random.beta(successes_A + 1, N - successes_A + 1, num_simulations)\n",
    "        posterior_B = np.random.beta(successes_B + 1, N - successes_B + 1, num_simulations)\n",
    "\n",
    "        # Probability that B is better than A\n",
    "        prob_B_superior = np.mean(posterior_B > posterior_A)\n",
    "        probabilities.append(prob_B_superior)\n",
    "\n",
    "        if prob_B_superior >= confidence_threshold:\n",
    "            print(f\"Sufficient sample size found: {N} per group\")\n",
    "            break\n",
    "\n",
    "    # Plot results\n",
    "    plt.plot(sample_sizes[:len(probabilities)], probabilities, marker='o', linestyle='-')\n",
    "    plt.axhline(y=confidence_threshold, color='r', linestyle='--', label=\"Confidence Threshold\")\n",
    "    plt.xlabel(\"Sample Size per Group\")\n",
    "    plt.ylabel(\"P(B > A)\")\n",
    "    plt.title(\"Bayesian Power Analysis\")\n",
    "    plt.legend()\n",
    "    plt.show()\n",
    "\n",
    "# Run Bayesian power analysis\n",
    "bayesian_power_analysis()"
   ]
  },
  {
   "cell_type": "markdown",
   "id": "befce245",
   "metadata": {},
   "source": [
    "# Implementing Bayesian A&B Test"
   ]
  },
  {
   "cell_type": "code",
   "execution_count": 27,
   "id": "a5ccf6da",
   "metadata": {},
   "outputs": [],
   "source": [
    "# Count successes and trials for each group\n",
    "conversion_counts = df.groupby('Group')['Conversion'].sum()\n",
    "sample_sizes = df.groupby('Group')['Conversion'].count()"
   ]
  },
  {
   "cell_type": "code",
   "execution_count": 28,
   "id": "8f89718a",
   "metadata": {},
   "outputs": [
    {
     "name": "stdout",
     "output_type": "stream",
     "text": [
      "Group A: 136/2519 converted\n",
      "Group B: 349/2481 converted\n"
     ]
    }
   ],
   "source": [
    "# Extract values for Bayesian calculations. Number of conversions/samples in each group\n",
    "conversions_A = conversion_counts['A']\n",
    "conversions_B = conversion_counts['B']\n",
    "samples_A = sample_sizes['A']\n",
    "samples_B = sample_sizes['B']\n",
    "\n",
    "print(f\"Group A: {conversions_A}/{samples_A} converted\")\n",
    "print(f\"Group B: {conversions_B}/{samples_B} converted\")"
   ]
  },
  {
   "cell_type": "code",
   "execution_count": 29,
   "id": "5c4f42c2",
   "metadata": {},
   "outputs": [],
   "source": [
    "# Define prior hyperparameters\n",
    "alpha_prior = 1  # Prior conversions (successes)\n",
    "beta_prior = 1   # Prior non-conversions (failures)"
   ]
  },
  {
   "cell_type": "code",
   "execution_count": 30,
   "id": "a7ceae14",
   "metadata": {},
   "outputs": [],
   "source": [
    "# Calculating posterior distributions\n",
    "alpha_A = alpha_prior + conversions_A\n",
    "beta_A = beta_prior + (samples_A - conversions_A)\n",
    "alpha_B = alpha_prior + conversions_B\n",
    "beta_B = beta_prior + (samples_B - conversions_B)"
   ]
  },
  {
   "cell_type": "code",
   "execution_count": 31,
   "id": "e48c0f5f",
   "metadata": {},
   "outputs": [],
   "source": [
    "# Sample from the posterior distributions\n",
    "np.random.seed(42)\n",
    "samples_a = np.random.beta(alpha_A, beta_A, 100000)\n",
    "samples_b = np.random.beta(alpha_B, beta_B, 100000)"
   ]
  },
  {
   "cell_type": "code",
   "execution_count": 32,
   "id": "beb53345",
   "metadata": {},
   "outputs": [
    {
     "name": "stdout",
     "output_type": "stream",
     "text": [
      "Probability that B is better than A: 1.0000\n"
     ]
    }
   ],
   "source": [
    "# Getting the probability that group b had the better website\n",
    "prob_B_better = np.mean(samples_b > samples_a)\n",
    "print(f\"Probability that B is better than A: {prob_B_better:.4f}\")"
   ]
  },
  {
   "cell_type": "code",
   "execution_count": 33,
   "id": "508d6681",
   "metadata": {},
   "outputs": [
    {
     "data": {
      "image/png": "[encoded data removed]",
      "text/plain": [
       "<Figure size 1000x500 with 1 Axes>"
      ]
     },
     "metadata": {},
     "output_type": "display_data"
    }
   ],
   "source": [
    "# Visualising the posterior distributions\n",
    "plt.figure(figsize=(10,5))\n",
    "plt.hist(samples_a, bins=100, alpha=0.5, label=\"Group A\", color='blue', density=True)\n",
    "plt.hist(samples_b, bins=100, alpha=0.5, label=\"Group B\", color='red', density=True)\n",
    "plt.axvline(np.mean(samples_a), color='blue', linestyle='dashed', linewidth=2)\n",
    "plt.axvline(np.mean(samples_b), color='red', linestyle='dashed', linewidth=2)\n",
    "plt.legend()\n",
    "plt.title(\"Posterior Distributions of Conversion Rates\")\n",
    "plt.xlabel(\"Conversion Rate\")\n",
    "plt.ylabel(\"Density\")\n",
    "plt.show()"
   ]
  },
  {
   "cell_type": "markdown",
   "id": "ef6b0096",
   "metadata": {},
   "source": [
    "# Two Sample T-Tests"
   ]
  },
  {
   "cell_type": "markdown",
   "id": "d65c1d24",
   "metadata": {},
   "source": [
    "# Assumptions For Two Sample T-Test"
   ]
  },
  {
   "cell_type": "markdown",
   "id": "c329f04c",
   "metadata": {},
   "source": [
    "- 1.The observations should be independently randomly sampled from the population.\n",
    "- 2.The standard deviations of the groups should be equal.\n",
    "- 3.The data should be normally distributed…ish.\n",
    "- 4.The groups created by the categorical variable must be independent."
   ]
  },
  {
   "cell_type": "markdown",
   "id": "1ed2e664",
   "metadata": {},
   "source": [
    "# Two Sample T-Test - Page Views"
   ]
  },
  {
   "cell_type": "markdown",
   "id": "a1bce669",
   "metadata": {},
   "source": [
    "- Null Hypothesis: The mean number of page views is the same for both groups. Any observed difference is due to random chance.\n",
    "- Alternative Hypothesis: The mean number of page views is different between Group A and Group B. It is not down to random chance.\n",
    "- Significance Threshold: 0.05"
   ]
  },
  {
   "cell_type": "markdown",
   "id": "fbb69d4d",
   "metadata": {},
   "source": [
    "# Sample Size - Continuous - Page Views"
   ]
  },
  {
   "cell_type": "code",
   "execution_count": 34,
   "id": "5f217b66",
   "metadata": {},
   "outputs": [],
   "source": [
    "# Creating a function to calculate the effect size between the two continuous groups\n",
    "def cohen_d(x1, x2):\n",
    "    mean_diff = np.mean(x1) - np.mean(x2)\n",
    "    pooled_std = np.sqrt((np.std(x1, ddof=1) ** 2 + np.std(x2, ddof=1) ** 2) / 2)\n",
    "    return mean_diff / pooled_std"
   ]
  },
  {
   "cell_type": "code",
   "execution_count": 35,
   "id": "f21bbbfb",
   "metadata": {},
   "outputs": [],
   "source": [
    "# Compute Cohen's d - effect size of page view groups\n",
    "effect_size_page_views = cohen_d(df[df['Group']=='A']['Page Views'] , df[df['Group']=='B']['Page Views'])"
   ]
  },
  {
   "cell_type": "code",
   "execution_count": 36,
   "id": "390a00d5",
   "metadata": {},
   "outputs": [
    {
     "name": "stdout",
     "output_type": "stream",
     "text": [
      "Required sample size per group for page views test: 32328\n"
     ]
    }
   ],
   "source": [
    "# Calculate required sample size per group\n",
    "analysis = TTestIndPower()\n",
    "sample_size_page_views = analysis.solve_power(effect_size_page_views, power=0.8, alpha=0.05)\n",
    "\n",
    "print(f\"Required sample size per group for page views test: {int(np.ceil(sample_size_page_views))}\")"
   ]
  },
  {
   "cell_type": "markdown",
   "id": "6de5a461",
   "metadata": {},
   "source": [
    "- The required sample size to detect the effect size is much larger than this dataset. Therefore if I get a significant result it will not be reliable enough to detect real effects."
   ]
  },
  {
   "cell_type": "markdown",
   "id": "fc1df370",
   "metadata": {},
   "source": [
    "# Checking Two Sample T-Test Assumptions"
   ]
  },
  {
   "cell_type": "markdown",
   "id": "09498926",
   "metadata": {},
   "source": [
    "- 1.The dataset is created from random synthetic samples. Therefore each person is independent and has no influence on another     persons decision to view multiple pages."
   ]
  },
  {
   "cell_type": "code",
   "execution_count": 37,
   "id": "3e0a63ea",
   "metadata": {},
   "outputs": [
    {
     "name": "stdout",
     "output_type": "stream",
     "text": [
      "1.0294263640915635\n"
     ]
    }
   ],
   "source": [
    "# 2. Calculating and comparing the stds of group a/b for page views\n",
    "group_a_b_std_page_views = np.std(df[df['Group']=='A']['Page Views']) / np.std(df[df['Group']=='B']['Page Views'])\n",
    "print(group_a_b_std_page_views)\n",
    "# Value is between the range of 0.9 - 1.1."
   ]
  },
  {
   "cell_type": "code",
   "execution_count": 38,
   "id": "299cb9e4",
   "metadata": {},
   "outputs": [
    {
     "data": {
      "image/png": "[encoded data removed]",
      "text/plain": [
       "<Figure size 1200x600 with 2 Axes>"
      ]
     },
     "metadata": {},
     "output_type": "display_data"
    }
   ],
   "source": [
    "# 3. Checking the distribution of page views for both groups\n",
    "# Creating two dfs for each of the groups\n",
    "group_a = df[df['Group']=='A']\n",
    "group_b = df[df['Group']=='B']\n",
    "\n",
    "# Visualising the distribution of page views for both groups\n",
    "plt.figure(figsize=(12,6))\n",
    "plt.subplot(1,2,1)\n",
    "plt.hist(group_a['Page Views'])\n",
    "plt.title('Group A PageViews Distribution')\n",
    "plt.xlabel('Page Views')\n",
    "plt.ylabel('Frequency')\n",
    "\n",
    "plt.subplot(1,2,2)\n",
    "plt.hist(group_b['Page Views'])\n",
    "plt.title('Group B PageViews Distribution')\n",
    "plt.xlabel('Page Views')\n",
    "plt.ylabel('Frequency')\n",
    "plt.show()\n",
    "\n",
    "# We can see that the pageviews is not normally distributed. But we can check to see if the sampling distribution of the means is. "
   ]
  },
  {
   "cell_type": "code",
   "execution_count": 39,
   "id": "db5a78eb",
   "metadata": {},
   "outputs": [],
   "source": [
    "# Calculating the sampling distribution of the means for group a/b pageviews\n",
    "sample_size = 30\n",
    "num_samples = 1000\n",
    "group_a_sample_means = []\n",
    "group_b_sample_means = []\n",
    "\n",
    "# Creating a random sample of pageviews from both group a and group b. Then calculating the mean and adding it to the list.\n",
    "for _ in range(num_samples):\n",
    "    sample = np.random.choice(group_a['Page Views'], size=sample_size, replace=True)\n",
    "    sample_mean = np.mean(sample)\n",
    "    group_a_sample_means.append(sample_mean)\n",
    "\n",
    "for _ in range(num_samples):\n",
    "    sample = np.random.choice(group_b['Page Views'], size=sample_size, replace=True)\n",
    "    sample_mean = np.mean(sample)\n",
    "    group_b_sample_means.append(sample_mean)"
   ]
  },
  {
   "cell_type": "code",
   "execution_count": 40,
   "id": "fddcdb13",
   "metadata": {},
   "outputs": [
    {
     "data": {
      "image/png": "[encoded data removed]",
      "text/plain": [
       "<Figure size 1200x600 with 2 Axes>"
      ]
     },
     "metadata": {},
     "output_type": "display_data"
    }
   ],
   "source": [
    "# Visualising the sampling distibution of the means for group a/b pageviews\n",
    "plt.figure(figsize=(12,6))\n",
    "plt.subplot(1,2,1)\n",
    "plt.hist(group_a_sample_means)\n",
    "plt.title('Group A PageViews Sampling Distibution Of The Means')\n",
    "plt.xlabel('Page Views')\n",
    "plt.ylabel('Frequency')\n",
    "\n",
    "plt.subplot(1,2,2)\n",
    "plt.hist(group_b_sample_means)\n",
    "plt.title('Group B PageViews Sampling Distibution Of The Means')\n",
    "plt.xlabel('Page Views')\n",
    "plt.ylabel('Frequency')\n",
    "plt.show()"
   ]
  },
  {
   "cell_type": "markdown",
   "id": "466326b1",
   "metadata": {},
   "source": [
    "- 4.Group A and Group B are independent from one another and a person from each one cannot influence another."
   ]
  },
  {
   "cell_type": "markdown",
   "id": "189ad181",
   "metadata": {},
   "source": [
    "# Implementing Two Sample T-Test - Page Views"
   ]
  },
  {
   "cell_type": "code",
   "execution_count": 41,
   "id": "4f433295",
   "metadata": {},
   "outputs": [
    {
     "name": "stdout",
     "output_type": "stream",
     "text": [
      "0.779161052451573\n",
      "0.4359217464384032\n",
      "No significant difference in page views.\n"
     ]
    }
   ],
   "source": [
    "# Running a two sample t-test for page views\n",
    "tstat_pageviews, pval_pageviews = ttest_ind(group_a['Page Views'], group_b['Page Views'], equal_var=False)\n",
    "print(tstat_pageviews)\n",
    "print(pval_pageviews)\n",
    "\n",
    "if pval_pageviews < 0.05:\n",
    "    print(\"Significant difference in page views between groups.\")\n",
    "else:\n",
    "    print(\"No significant difference in page views.\")"
   ]
  },
  {
   "cell_type": "markdown",
   "id": "b5b6ddb7",
   "metadata": {},
   "source": [
    "# Effect Size - Page Views"
   ]
  },
  {
   "cell_type": "code",
   "execution_count": 42,
   "id": "ffd6c8a5",
   "metadata": {},
   "outputs": [
    {
     "name": "stdout",
     "output_type": "stream",
     "text": [
      "Cohen's d effect size: 0.0220\n"
     ]
    }
   ],
   "source": [
    "# Calculating the effect size of the two groups of page views\n",
    "effect_size_page_views = cohen_d(df[df['Group']=='A']['Page Views'] , df[df['Group']=='B']['Page Views'])\n",
    "print(f\"Cohen's d effect size: {effect_size_page_views:.4f}\")"
   ]
  },
  {
   "cell_type": "markdown",
   "id": "6c81d94a",
   "metadata": {},
   "source": [
    "- The effect size is so low that even if a significant difference was found the difference between the groups is so minimal and not very meaningful."
   ]
  },
  {
   "cell_type": "markdown",
   "id": "66c0a4d2",
   "metadata": {},
   "source": [
    "# Actual Power - Page Views "
   ]
  },
  {
   "cell_type": "code",
   "execution_count": 43,
   "id": "98acd214",
   "metadata": {},
   "outputs": [
    {
     "name": "stdout",
     "output_type": "stream",
     "text": [
      "Actual power of the test: 0.1224\n"
     ]
    }
   ],
   "source": [
    "# Computing the actual power with group a sample size\n",
    "actual_power_page_views = analysis.power(effect_size_page_views, nobs1=samples_A, alpha=0.05)\n",
    "print(f\"Actual power of the test: {actual_power_page_views:.4f}\")"
   ]
  },
  {
   "cell_type": "markdown",
   "id": "7f43390f",
   "metadata": {},
   "source": [
    "- Due to the lack of data for the test the actual power of the test is very low."
   ]
  },
  {
   "cell_type": "markdown",
   "id": "7a88fc8f",
   "metadata": {},
   "source": [
    "# Two Sample T-Test - Time Spent"
   ]
  },
  {
   "cell_type": "markdown",
   "id": "e4b98109",
   "metadata": {},
   "source": [
    "- Null Hypothesis:The mean number of time spent is the same for both groups. Any observed difference is due to random chance.\n",
    "- Alternative Hypothesis: The mean number of time spent is different between Group A and Group B. It is not down to random chance.\n",
    "- Significance Threshold: 0.05"
   ]
  },
  {
   "cell_type": "markdown",
   "id": "62ff1882",
   "metadata": {},
   "source": [
    "# Sample Size - Time Spent"
   ]
  },
  {
   "cell_type": "code",
   "execution_count": 44,
   "id": "78184356",
   "metadata": {},
   "outputs": [],
   "source": [
    "# Compute Cohen's d - effect size of time spent groups\n",
    "effect_size_time_spent = cohen_d(df[df['Group']=='A']['Time Spent'] , df[df['Group']=='B']['Time Spent'])"
   ]
  },
  {
   "cell_type": "code",
   "execution_count": 45,
   "id": "64990a46",
   "metadata": {},
   "outputs": [
    {
     "name": "stdout",
     "output_type": "stream",
     "text": [
      "Required sample size per group for time spent test: 89006\n"
     ]
    }
   ],
   "source": [
    "# Calculate required sample size per group\n",
    "sample_size_time_spent = analysis.solve_power(effect_size_time_spent, power=0.8, alpha=0.05)\n",
    "\n",
    "print(f\"Required sample size per group for time spent test: {int(np.ceil(sample_size_time_spent))}\")"
   ]
  },
  {
   "cell_type": "markdown",
   "id": "1d9da034",
   "metadata": {},
   "source": [
    "- Similar to the page views test the required sample size to detect the effect size is much larger than this dataset. Therefore if I get a significant result it will not be reliable enough to detect real effects."
   ]
  },
  {
   "cell_type": "markdown",
   "id": "f5d0b239",
   "metadata": {},
   "source": [
    "# Checking Two Sample T-Test Assumptions"
   ]
  },
  {
   "cell_type": "markdown",
   "id": "0d286f98",
   "metadata": {},
   "source": [
    "- 1.The dataset is created from random synthetic samples. Therefore each person is independent and has no influence on another     persons time spent on the website."
   ]
  },
  {
   "cell_type": "code",
   "execution_count": 46,
   "id": "6ef872ce",
   "metadata": {},
   "outputs": [
    {
     "name": "stdout",
     "output_type": "stream",
     "text": [
      "0.984452443655755\n"
     ]
    }
   ],
   "source": [
    "# 2. Calculating and comparing the stds of group a/b for time spent\n",
    "group_a_b_std_time_spent = np.std(group_a['Time Spent']) / np.std(group_b['Time Spent'])\n",
    "print(group_a_b_std_time_spent)\n",
    "# Value is between the range of 0.9 - 1.1."
   ]
  },
  {
   "cell_type": "code",
   "execution_count": 47,
   "id": "be793122",
   "metadata": {},
   "outputs": [
    {
     "data": {
      "image/png": "[encoded data removed]",
      "text/plain": [
       "<Figure size 1200x600 with 2 Axes>"
      ]
     },
     "metadata": {},
     "output_type": "display_data"
    }
   ],
   "source": [
    "# 3. Visualising the distribution of time spent for both groups\n",
    "plt.figure(figsize=(12,6))\n",
    "plt.subplot(1,2,1)\n",
    "plt.hist(group_a['Time Spent'])\n",
    "plt.title('Group A Time Spent Distribution')\n",
    "plt.xlabel('Time Spent')\n",
    "plt.ylabel('Frequency')\n",
    "\n",
    "plt.subplot(1,2,2)\n",
    "plt.hist(group_b['Time Spent'])\n",
    "plt.title('Group B Time Spent Distribution')\n",
    "plt.xlabel('Time Spent')\n",
    "plt.ylabel('Frequency')\n",
    "plt.show()\n",
    "\n",
    "# Like with pageviews the distribution is not normal. So will have to check the sampling distribution of the means."
   ]
  },
  {
   "cell_type": "code",
   "execution_count": 48,
   "id": "7f4173fe",
   "metadata": {},
   "outputs": [],
   "source": [
    "# Creating empty lists to store the sample means\n",
    "group_a_time_spent_sample_means = []\n",
    "group_b_time_spent_sample_means = []\n",
    "\n",
    "# Creating a random sample of time spent from both group a and group b. Then calculating the mean and adding it to the list.\n",
    "for _ in range(num_samples):\n",
    "    sample = np.random.choice(group_a['Time Spent'], size=sample_size, replace=True)\n",
    "    sample_mean = np.mean(sample)\n",
    "    group_a_time_spent_sample_means.append(sample_mean)\n",
    "\n",
    "for _ in range(num_samples):\n",
    "    sample = np.random.choice(group_b['Time Spent'], size=sample_size, replace=True)\n",
    "    sample_mean = np.mean(sample)\n",
    "    group_b_time_spent_sample_means.append(sample_mean)"
   ]
  },
  {
   "cell_type": "code",
   "execution_count": 49,
   "id": "31498e95",
   "metadata": {},
   "outputs": [
    {
     "data": {
      "image/png": "[encoded data removed]",
      "text/plain": [
       "<Figure size 1200x600 with 2 Axes>"
      ]
     },
     "metadata": {},
     "output_type": "display_data"
    }
   ],
   "source": [
    "# Visualising the sampling distibution of the means for group a/b time spent\n",
    "plt.figure(figsize=(12,6))\n",
    "plt.subplot(1,2,1)\n",
    "plt.hist(group_a_time_spent_sample_means)\n",
    "plt.title('Group A Time Spent Sampling Distibution Of The Means')\n",
    "plt.xlabel('Time Spent')\n",
    "plt.ylabel('Frequency')\n",
    "\n",
    "plt.subplot(1,2,2)\n",
    "plt.hist(group_b_time_spent_sample_means)\n",
    "plt.title('Group B Time Spent Sampling Distibution Of The Means')\n",
    "plt.xlabel('Time Spent')\n",
    "plt.ylabel('Frequency')\n",
    "plt.show()"
   ]
  },
  {
   "cell_type": "markdown",
   "id": "a5fffc71",
   "metadata": {},
   "source": [
    "- 4.Group A and Group B are independent from one another and a person from each one cannot influence another."
   ]
  },
  {
   "cell_type": "markdown",
   "id": "398e1854",
   "metadata": {},
   "source": [
    "# Implementing Two Sample T-Test - Time Spent"
   ]
  },
  {
   "cell_type": "code",
   "execution_count": 50,
   "id": "38671f9e",
   "metadata": {},
   "outputs": [
    {
     "name": "stdout",
     "output_type": "stream",
     "text": [
      "-0.4694926489675219\n",
      "0.6387380383087231\n",
      "No significant difference in time spent on the website.\n"
     ]
    }
   ],
   "source": [
    "# Running a two sample t-test for time spent\n",
    "tstat_time, pval_time = ttest_ind(group_a['Time Spent'], group_b['Time Spent'], equal_var=False)\n",
    "print(tstat_time)\n",
    "print(pval_time)\n",
    "\n",
    "if pval_time < 0.05:\n",
    "    print(\"Significant difference in time spent on the website between groups.\")\n",
    "else:\n",
    "    print(\"No significant difference in time spent on the website.\")"
   ]
  },
  {
   "cell_type": "markdown",
   "id": "5c7e3edb",
   "metadata": {},
   "source": [
    "# Effect Size - Time Spent"
   ]
  },
  {
   "cell_type": "code",
   "execution_count": 51,
   "id": "773468fe",
   "metadata": {},
   "outputs": [
    {
     "name": "stdout",
     "output_type": "stream",
     "text": [
      "Cohen's d effect size: 0.0133\n"
     ]
    }
   ],
   "source": [
    "# Compute Cohen's d - effect size of time spent groups\n",
    "effect_size_time_spent = abs(cohen_d(df[df['Group']=='A']['Time Spent'] , df[df['Group']=='B']['Time Spent']))\n",
    "print(f\"Cohen's d effect size: {effect_size_time_spent:.4f}\")"
   ]
  },
  {
   "cell_type": "markdown",
   "id": "8f498ef7",
   "metadata": {},
   "source": [
    "- Just like the page views test the effect size is so low that even if a significant difference was found the difference between the groups is so minimal and not very meaningful."
   ]
  },
  {
   "cell_type": "markdown",
   "id": "4fd2e0b8",
   "metadata": {},
   "source": [
    "# Actual Power - Time Spent"
   ]
  },
  {
   "cell_type": "code",
   "execution_count": 52,
   "id": "0825dc21",
   "metadata": {},
   "outputs": [
    {
     "name": "stdout",
     "output_type": "stream",
     "text": [
      "Actual power of the test: 0.0758\n"
     ]
    }
   ],
   "source": [
    "# Compute actual power with group a sample size\n",
    "actual_power_time_spent = analysis.power(effect_size_time_spent, nobs1=samples_A, alpha=0.05)\n",
    "print(f\"Actual power of the test: {actual_power_time_spent:.4f}\")"
   ]
  },
  {
   "cell_type": "markdown",
   "id": "0de09584",
   "metadata": {},
   "source": [
    "- Also like the page views test the actual power of the test is poor due to the lack of samples."
   ]
  },
  {
   "cell_type": "markdown",
   "id": "2c292ba7",
   "metadata": {},
   "source": [
    "# Chi-Squared Test - Device Conversion - Desktop"
   ]
  },
  {
   "cell_type": "markdown",
   "id": "472b10f3",
   "metadata": {},
   "source": [
    "- Null Hypothesis: There is no association between group assignment (A/B) and conversion rate among desktop users.\n",
    "- Alternative Hypothesis: There is an association between group assignment and conversion rate among desktop users.\n",
    "- Significance Threshold: 0.05"
   ]
  },
  {
   "cell_type": "markdown",
   "id": "cb3efebe",
   "metadata": {},
   "source": [
    "# Checking Chi-Squared Test Assumptions"
   ]
  },
  {
   "cell_type": "markdown",
   "id": "23089ea7",
   "metadata": {},
   "source": [
    "- 1.The dataset is created from random synthetic samples. Therefore each person is independent and has no influence on another persons decision to convert or not.\n",
    "- 2.The categories of both variables are mutually exclusive. Each desktop user is only part of one group and only has one value in the conversion column. (yes or no)\n",
    "- 3.Each sample in the test has their own unique user id. After checking for any duplicates none were found, meaning all rows are distinct."
   ]
  },
  {
   "cell_type": "markdown",
   "id": "e28865df",
   "metadata": {},
   "source": [
    "# Chi-Squared Test - Desktop - Sample Size"
   ]
  },
  {
   "cell_type": "code",
   "execution_count": 53,
   "id": "f837aa45",
   "metadata": {},
   "outputs": [],
   "source": [
    "# Creating two dfs for each different device user\n",
    "df_desktop = df[df['Device']=='Desktop']\n",
    "df_mobile = df[df['Device']=='Mobile']"
   ]
  },
  {
   "cell_type": "code",
   "execution_count": 54,
   "id": "02fd6bbb",
   "metadata": {},
   "outputs": [],
   "source": [
    "# Getting the number of samples for each group from the desktop and mobile users\n",
    "desktop_sample_size = df_desktop.groupby('Group')['Conversion'].count()\n",
    "mobile_sample_size = df_mobile.groupby('Group')['Conversion'].count()\n",
    "\n",
    "desktop_samples_a = desktop_sample_size['A']\n",
    "desktop_samples_b = desktop_sample_size['B']\n",
    "\n",
    "mobile_samples_a = mobile_sample_size['A']\n",
    "mobile_samples_b = mobile_sample_size['B']"
   ]
  },
  {
   "cell_type": "code",
   "execution_count": 55,
   "id": "747d9fad",
   "metadata": {},
   "outputs": [],
   "source": [
    "# Define parameters\n",
    "alpha = 0.05  # Significance level (5%)\n",
    "power = 0.8   # Desired power (80%)\n",
    "effect_size_desktop = proportion_effectsize(df_desktop[df_desktop['Group']=='A']['Conversion'].mean(),\n",
    "                                   df_desktop[df_desktop['Group']=='B']['Conversion'].mean())"
   ]
  },
  {
   "cell_type": "code",
   "execution_count": 56,
   "id": "d1479ed2",
   "metadata": {},
   "outputs": [
    {
     "name": "stdout",
     "output_type": "stream",
     "text": [
      "Required sample size per group: 213\n"
     ]
    }
   ],
   "source": [
    "# Calculate required sample size per group\n",
    "sample_size_desktop = analysis.solve_power(effect_size_desktop, power=power, alpha=alpha, \n",
    "                                           ratio=desktop_samples_a/desktop_samples_b, alternative='two-sided')\n",
    "\n",
    "print(f\"Required sample size per group: {int(np.ceil(sample_size_desktop))}\")"
   ]
  },
  {
   "cell_type": "markdown",
   "id": "d1140040",
   "metadata": {},
   "source": [
    "# Implementing Chi-Squared Test - Device Conversion - Desktop"
   ]
  },
  {
   "cell_type": "code",
   "execution_count": 57,
   "id": "c54b371c",
   "metadata": {},
   "outputs": [
    {
     "data": {
      "text/html": [
       "<div>\n",
       "<style scoped>\n",
       "    .dataframe tbody tr th:only-of-type {\n",
       "        vertical-align: middle;\n",
       "    }\n",
       "\n",
       "    .dataframe tbody tr th {\n",
       "        vertical-align: top;\n",
       "    }\n",
       "\n",
       "    .dataframe thead th {\n",
       "        text-align: right;\n",
       "    }\n",
       "</style>\n",
       "<table border=\"1\" class=\"dataframe\">\n",
       "  <thead>\n",
       "    <tr style=\"text-align: right;\">\n",
       "      <th>Group</th>\n",
       "      <th>A</th>\n",
       "      <th>B</th>\n",
       "    </tr>\n",
       "    <tr>\n",
       "      <th>Device</th>\n",
       "      <th></th>\n",
       "      <th></th>\n",
       "    </tr>\n",
       "  </thead>\n",
       "  <tbody>\n",
       "    <tr>\n",
       "      <th>Desktop</th>\n",
       "      <td>0.058682</td>\n",
       "      <td>0.139104</td>\n",
       "    </tr>\n",
       "    <tr>\n",
       "      <th>Mobile</th>\n",
       "      <td>0.049412</td>\n",
       "      <td>0.142376</td>\n",
       "    </tr>\n",
       "  </tbody>\n",
       "</table>\n",
       "</div>"
      ],
      "text/plain": [
       "Group           A         B\n",
       "Device                     \n",
       "Desktop  0.058682  0.139104\n",
       "Mobile   0.049412  0.142376"
      ]
     },
     "execution_count": 57,
     "metadata": {},
     "output_type": "execute_result"
    }
   ],
   "source": [
    "# Getting the conversion rates for people who used each different device from each group\n",
    "device_conversion = df.groupby(['Device', 'Group'])['Conversion'].mean().unstack()\n",
    "device_conversion"
   ]
  },
  {
   "cell_type": "code",
   "execution_count": 58,
   "id": "f3a4bf96",
   "metadata": {},
   "outputs": [
    {
     "data": {
      "text/html": [
       "<div>\n",
       "<style scoped>\n",
       "    .dataframe tbody tr th:only-of-type {\n",
       "        vertical-align: middle;\n",
       "    }\n",
       "\n",
       "    .dataframe tbody tr th {\n",
       "        vertical-align: top;\n",
       "    }\n",
       "\n",
       "    .dataframe thead th {\n",
       "        text-align: right;\n",
       "    }\n",
       "</style>\n",
       "<table border=\"1\" class=\"dataframe\">\n",
       "  <thead>\n",
       "    <tr style=\"text-align: right;\">\n",
       "      <th>Conversion</th>\n",
       "      <th>0</th>\n",
       "      <th>1</th>\n",
       "    </tr>\n",
       "    <tr>\n",
       "      <th>Group</th>\n",
       "      <th></th>\n",
       "      <th></th>\n",
       "    </tr>\n",
       "  </thead>\n",
       "  <tbody>\n",
       "    <tr>\n",
       "      <th>A</th>\n",
       "      <td>1171</td>\n",
       "      <td>73</td>\n",
       "    </tr>\n",
       "    <tr>\n",
       "      <th>B</th>\n",
       "      <td>1114</td>\n",
       "      <td>180</td>\n",
       "    </tr>\n",
       "  </tbody>\n",
       "</table>\n",
       "</div>"
      ],
      "text/plain": [
       "Conversion     0    1\n",
       "Group                \n",
       "A           1171   73\n",
       "B           1114  180"
      ]
     },
     "execution_count": 58,
     "metadata": {},
     "output_type": "execute_result"
    }
   ],
   "source": [
    "# Creating a crosstab for the counts of desktop users split by group and conversion\n",
    "table_desktop = pd.crosstab(df_desktop.Group, df_desktop.Conversion) \n",
    "table_desktop"
   ]
  },
  {
   "cell_type": "code",
   "execution_count": 59,
   "id": "9cf44e3a",
   "metadata": {},
   "outputs": [
    {
     "name": "stdout",
     "output_type": "stream",
     "text": [
      "44.815862058862145\n",
      "2.1646203776784772e-11\n",
      "Significant difference in conversion rate between groups of desktop users.\n"
     ]
    }
   ],
   "source": [
    "# Running a chi squared test - desktop\n",
    "chi2, pval_desktop, dof, expected = chi2_contingency(table_desktop)\n",
    "print(chi2)\n",
    "print(pval_desktop)\n",
    "\n",
    "if pval_desktop < 0.05:\n",
    "    print(\"Significant difference in conversion rate between groups of desktop users.\")\n",
    "else:\n",
    "    print(\"No significant difference in conversion rate bewteen groups of desktop users.\")"
   ]
  },
  {
   "cell_type": "markdown",
   "id": "1970903e",
   "metadata": {},
   "source": [
    "# Effect Size - Device Conversion - Desktop"
   ]
  },
  {
   "cell_type": "code",
   "execution_count": 60,
   "id": "09a06080",
   "metadata": {},
   "outputs": [
    {
     "name": "stdout",
     "output_type": "stream",
     "text": [
      "Cohen's h: 0.2751\n"
     ]
    }
   ],
   "source": [
    "# Using the conversion rates of both groups in the function to calculate the effect size\n",
    "effect_size_desktop = abs(cohen_h(df_desktop[df_desktop['Group']=='A']['Conversion'].mean(), \n",
    "                                  df_desktop[df_desktop['Group']=='B']['Conversion'].mean()))\n",
    "print(f\"Cohen's h: {effect_size_desktop:.4f}\")"
   ]
  },
  {
   "cell_type": "markdown",
   "id": "99d5f1cb",
   "metadata": {},
   "source": [
    "# Actual Power - Device Conversion - Desktop"
   ]
  },
  {
   "cell_type": "code",
   "execution_count": 61,
   "id": "591ab881",
   "metadata": {},
   "outputs": [
    {
     "name": "stdout",
     "output_type": "stream",
     "text": [
      "Actual power of the test: 1.0000\n"
     ]
    }
   ],
   "source": [
    "# Computing the actual power of the chi squared desktop test\n",
    "actual_power_desktop = analysis.power(effect_size_desktop, nobs1=desktop_sample_size['A'], alpha=0.05)\n",
    "print(f\"Actual power of the test: {actual_power_desktop:.4f}\")"
   ]
  },
  {
   "cell_type": "markdown",
   "id": "26be3ebd",
   "metadata": {},
   "source": [
    "# Chi-Squared Test - Device Conversion - Mobile"
   ]
  },
  {
   "cell_type": "markdown",
   "id": "066b4ffa",
   "metadata": {},
   "source": [
    "- Null Hypothesis: There is no association between group assignment (A/B) and conversion rate among mobile users.\n",
    "- Alternative Hypothesis: There is an association between group assignment and conversion rate among mobile users.\n",
    "- Significance threshold: 0.05"
   ]
  },
  {
   "cell_type": "markdown",
   "id": "138aef8d",
   "metadata": {},
   "source": [
    "# Checking Chi-Squared Test Assumptions"
   ]
  },
  {
   "cell_type": "markdown",
   "id": "2411407b",
   "metadata": {},
   "source": [
    "- 1.The dataset is created from random synthetic samples. Therefore each person is independent and has no influence on another persons decision to convert or not.\n",
    "- 2.The categories of both variables are mutually exclusive. Each mobile user is only part of one group and only has one value in the conversion column. (yes or no)\n",
    "- 3.Each sample in the test has their own unique user id. After checking for any duplicates none were found, meaning all rows are distinct."
   ]
  },
  {
   "cell_type": "markdown",
   "id": "afbe87e3",
   "metadata": {},
   "source": [
    "# Chi-Squared Test - Mobile - Sample Size"
   ]
  },
  {
   "cell_type": "code",
   "execution_count": 62,
   "id": "d9f8b02b",
   "metadata": {},
   "outputs": [],
   "source": [
    "# Calculate the effect size based on the two continuous groups\n",
    "effect_size_mobile = proportion_effectsize(df_mobile[df_mobile['Group']=='A']['Conversion'].mean(),\n",
    "                                   df_mobile[df_mobile['Group']=='B']['Conversion'].mean())"
   ]
  },
  {
   "cell_type": "code",
   "execution_count": 63,
   "id": "3711ad65",
   "metadata": {},
   "outputs": [
    {
     "name": "stdout",
     "output_type": "stream",
     "text": [
      "Required sample size per group: 144\n"
     ]
    }
   ],
   "source": [
    "# Calculate required sample size per group\n",
    "sample_size_mobile = analysis.solve_power(effect_size_mobile, power=power, alpha=alpha,\n",
    "                                          ratio=mobile_samples_a/mobile_samples_b, alternative='two-sided')\n",
    "\n",
    "print(f\"Required sample size per group: {int(np.ceil(sample_size_mobile))}\")"
   ]
  },
  {
   "cell_type": "markdown",
   "id": "c2889b87",
   "metadata": {},
   "source": [
    "# Implementing Chi-Squared Test - Device Conversion - Mobile"
   ]
  },
  {
   "cell_type": "code",
   "execution_count": 64,
   "id": "1762c1b4",
   "metadata": {},
   "outputs": [
    {
     "data": {
      "text/html": [
       "<div>\n",
       "<style scoped>\n",
       "    .dataframe tbody tr th:only-of-type {\n",
       "        vertical-align: middle;\n",
       "    }\n",
       "\n",
       "    .dataframe tbody tr th {\n",
       "        vertical-align: top;\n",
       "    }\n",
       "\n",
       "    .dataframe thead th {\n",
       "        text-align: right;\n",
       "    }\n",
       "</style>\n",
       "<table border=\"1\" class=\"dataframe\">\n",
       "  <thead>\n",
       "    <tr style=\"text-align: right;\">\n",
       "      <th>Conversion</th>\n",
       "      <th>0</th>\n",
       "      <th>1</th>\n",
       "    </tr>\n",
       "    <tr>\n",
       "      <th>Group</th>\n",
       "      <th></th>\n",
       "      <th></th>\n",
       "    </tr>\n",
       "  </thead>\n",
       "  <tbody>\n",
       "    <tr>\n",
       "      <th>A</th>\n",
       "      <td>1212</td>\n",
       "      <td>63</td>\n",
       "    </tr>\n",
       "    <tr>\n",
       "      <th>B</th>\n",
       "      <td>1018</td>\n",
       "      <td>169</td>\n",
       "    </tr>\n",
       "  </tbody>\n",
       "</table>\n",
       "</div>"
      ],
      "text/plain": [
       "Conversion     0    1\n",
       "Group                \n",
       "A           1212   63\n",
       "B           1018  169"
      ]
     },
     "execution_count": 64,
     "metadata": {},
     "output_type": "execute_result"
    }
   ],
   "source": [
    "# Creating a crosstab for the counts of mobile users split by group and conversion\n",
    "table_mobile = pd.crosstab(df_mobile.Group, df_mobile.Conversion) \n",
    "table_mobile"
   ]
  },
  {
   "cell_type": "code",
   "execution_count": 65,
   "id": "43194dc7",
   "metadata": {},
   "outputs": [
    {
     "name": "stdout",
     "output_type": "stream",
     "text": [
      "61.157863200942984\n",
      "5.267695995029192e-15\n",
      "Significant difference in conversion rate between groups of mobile users.\n"
     ]
    }
   ],
   "source": [
    "# Running a chi squared test - mobile\n",
    "chi2, pval_mobile, dof, expected = chi2_contingency(table_mobile)\n",
    "print(chi2)\n",
    "print(pval_mobile)\n",
    "\n",
    "if pval_mobile < 0.05:\n",
    "    print(\"Significant difference in conversion rate between groups of mobile users.\")\n",
    "else:\n",
    "    print(\"No significant difference in conversion rate bewteen groups of mobile users.\")"
   ]
  },
  {
   "cell_type": "markdown",
   "id": "bc31ceb4",
   "metadata": {},
   "source": [
    "# Effect Size - Device Conversion - Mobile"
   ]
  },
  {
   "cell_type": "code",
   "execution_count": 66,
   "id": "eb19bbb2",
   "metadata": {},
   "outputs": [
    {
     "name": "stdout",
     "output_type": "stream",
     "text": [
      "Cohen's h: 0.3255\n"
     ]
    }
   ],
   "source": [
    "# Using the conversion rates of both groups in the function to calculate effect size\n",
    "effect_size_mobile = abs(cohen_h(df_mobile[df_mobile['Group']=='A']['Conversion'].mean(), \n",
    "                                  df_mobile[df_mobile['Group']=='B']['Conversion'].mean()))\n",
    "print(f\"Cohen's h: {effect_size_mobile:.4f}\")"
   ]
  },
  {
   "cell_type": "markdown",
   "id": "8fd46657",
   "metadata": {},
   "source": [
    "# Actual Power - Device Conversion - Mobile"
   ]
  },
  {
   "cell_type": "code",
   "execution_count": 67,
   "id": "b423865b",
   "metadata": {},
   "outputs": [
    {
     "name": "stdout",
     "output_type": "stream",
     "text": [
      "Actual power of the test: 1.0000\n"
     ]
    }
   ],
   "source": [
    "# Compute actual power of the chi squared mobile test\n",
    "actual_power_mobile = analysis.power(effect_size_mobile, nobs1=mobile_sample_size['A'], alpha=0.05)\n",
    "print(f\"Actual power of the test: {actual_power_mobile:.4f}\")"
   ]
  },
  {
   "cell_type": "code",
   "execution_count": null,
   "id": "f4c31405",
   "metadata": {},
   "outputs": [],
   "source": []
  }
 ],
 "metadata": {
  "kernelspec": {
   "display_name": "Python 3 (ipykernel)",
   "language": "python",
   "name": "python3"
  },
  "language_info": {
   "codemirror_mode": {
    "name": "ipython",
    "version": 3
   },
   "file_extension": ".py",
   "mimetype": "text/x-python",
   "name": "python",
   "nbconvert_exporter": "python",
   "pygments_lexer": "ipython3",
   "version": "3.12.3"
  }
 },
 "nbformat": 4,
 "nbformat_minor": 5
}
